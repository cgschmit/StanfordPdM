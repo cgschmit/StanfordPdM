{
 "cells": [
  {
   "cell_type": "markdown",
   "metadata": {},
   "source": [
    "# Code for Dog Simulation\n",
    "\n",
    "This code run the dog simulation"
   ]
  },
  {
   "cell_type": "code",
   "execution_count": 260,
   "metadata": {
    "collapsed": true
   },
   "outputs": [],
   "source": [
    "# -*- coding: utf-8 -*-\n",
    "\n",
    "\"\"\"Copyright 2015 Roger R Labbe Jr.\n",
    "\n",
    "\n",
    "Code supporting the book\n",
    "\n",
    "Kalman and Bayesian Filters in Python\n",
    "https://github.com/rlabbe/Kalman-and-Bayesian-Filters-in-Python\n",
    "\n",
    "\n",
    "This is licensed under an MIT license. See the LICENSE.txt file\n",
    "for more information.\n",
    "\"\"\"\n",
    "\n",
    "from __future__ import (absolute_import, division, print_function,\n",
    "                        unicode_literals)\n",
    "\n",
    "import code.book_plots as bp\n",
    "import filterpy.stats as stats\n",
    "from math import sqrt\n",
    "import matplotlib.pyplot as plt\n",
    "import numpy as np\n",
    "from numpy.random import randn, seed\n",
    "\n",
    "\n",
    "def plot_dog_track(xs, dog, measurement_var, process_var):\n",
    "    N = len(xs)\n",
    "    bp.plot_track(dog)\n",
    "    bp.plot_measurements(xs, label='Sensor')\n",
    "    bp.set_labels('variance = {}, process variance = {}'.format(\n",
    "              measurement_var, process_var), 'time', 'pos')\n",
    "    plt.ylim([0, N])\n",
    "    bp.show_legend()\n",
    "    plt.show()\n",
    "\n",
    "\n",
    "def print_gh(predict, update, z):\n",
    "    predict_template = '{: 7.3f} {: 8.3f}'\n",
    "    update_template = '{:.3f}\\t{: 7.3f} {: 7.3f}'\n",
    "\n",
    "    print(predict_template.format(predict[0], predict[1]),end='\\t')\n",
    "    print(update_template.format(z, update[0], update[1]))\n",
    "\n",
    "\n",
    "def print_variance(positions):\n",
    "    for i in range(0, len(positions), 5):\n",
    "        print('\\t{:.4f} {:.4f} {:.4f} {:.4f} {:.4f}'.format(\n",
    "                *[v[1] for v in positions[i:i+5]]))\n",
    "\n",
    "\n",
    "\n",
    "def gaussian_vs_histogram():\n",
    "\n",
    "    seed(15)\n",
    "    xs = np.arange(0, 20, 0.1)\n",
    "    ys = np.array([stats.gaussian(x-10, 0, 2) for x in xs])\n",
    "    bar_ys = abs(ys + randn(len(xs)) * stats.gaussian(xs-10, 0, 10)/2)\n",
    "    plt.gca().bar(xs[::5]-.25, bar_ys[::5], width=0.5, color='g')\n",
    "    plt.plot(xs, ys, lw=3, color='k')\n",
    "    plt.xlim(5, 15)\n",
    "\n",
    "\n",
    "class DogSimulation(object):\n",
    "    def __init__(self, x0=0, velocity=1,\n",
    "                 measurement_var=0.0,\n",
    "                 process_var=0.0):\n",
    "        \"\"\" x0 : initial position\n",
    "            velocity: (+=right, -=left)\n",
    "            measurement_var: variance in measurement m^2\n",
    "            process_var: variance in process (m/s)^2\n",
    "        \"\"\"\n",
    "        self.x = x0\n",
    "        self.velocity = velocity\n",
    "        self.meas_std = sqrt(measurement_var)\n",
    "        self.process_std = sqrt(process_var)\n",
    "\n",
    "    def move(self, dt=1.0):\n",
    "        \"\"\"Compute new position of the dog in dt seconds.\"\"\"\n",
    "        dx = self.velocity + randn()*self.process_std\n",
    "        self.x += dx * dt\n",
    "\n",
    "    def sense_position(self):\n",
    "        \"\"\" Returns measurement of new position in meters.\"\"\"\n",
    "        measurement = self.x + randn()*self.meas_std\n",
    "        return measurement\n",
    "\n",
    "    def move_and_sense(self):\n",
    "        \"\"\" Move dog, and return measurement of new position in meters\"\"\"\n",
    "        self.move()\n",
    "        return self.sense_position()\n"
   ]
  },
  {
   "cell_type": "code",
   "execution_count": 261,
   "metadata": {
    "collapsed": true
   },
   "outputs": [],
   "source": [
    "def gaussian_multiply(g1, g2):\n",
    "    mu1, var1 = g1\n",
    "    mu2, var2 = g2\n",
    "    mean = (var1*mu2 + var2*mu1) / (var1 + var2)\n",
    "    variance = (var1 * var2) / (var1 + var2)\n",
    "    return (mean, variance)\n",
    "\n",
    "def update(prior, likelihood):\n",
    "    posterior = gaussian_multiply(likelihood, prior)\n",
    "    return posterior\n",
    "\n",
    "def predict(pos, movement):\n",
    "    return (pos[0] + movement[0], pos[1] + movement[1])"
   ]
  },
  {
   "cell_type": "markdown",
   "metadata": {},
   "source": [
    "# Kalman Filter Implementation (1D)"
   ]
  },
  {
   "cell_type": "code",
   "execution_count": 262,
   "metadata": {
    "collapsed": false
   },
   "outputs": [
    {
     "name": "stdout",
     "output_type": "stream",
     "text": [
      "PREDICT\t\t\tUPDATE\n",
      "     x      var\t\t  z\t    x      var\n",
      "  1.000  401.000\t1.354\t  1.352   1.990\n",
      "  2.352    2.990\t1.882\t  2.070   1.198\n",
      "  3.070    2.198\t4.341\t  3.736   1.047\n",
      "  4.736    2.047\t7.156\t  5.960   1.012\n",
      "  6.960    2.012\t6.939\t  6.949   1.003\n",
      "  7.949    2.003\t6.844\t  7.396   1.001\n",
      "  8.396    2.001\t9.847\t  9.122   1.000\n",
      " 10.122    2.000\t12.553\t 11.338   1.000\n",
      " 12.338    2.000\t16.273\t 14.305   1.000\n",
      " 15.305    2.000\t14.800\t 15.053   1.000\n",
      "\n",
      "final estimate:            15.053\n",
      "actual final position:     14.838\n"
     ]
    }
   ],
   "source": [
    "np.random.seed(13)\n",
    "\n",
    "process_var = 1. # variance in the dog's movement\n",
    "sensor_var = 2. # variance in the sensor\n",
    "\n",
    "x = (0., 400.)  # dog's position, N(0, 20**2)\n",
    "velocity = 1\n",
    "dt = 1. # time step in seconds\n",
    "process_model = (velocity*dt, process_var) \n",
    "  \n",
    "# simulate dog and get measurements\n",
    "dog = DogSimulation(\n",
    "    x0=x[0], \n",
    "    velocity=process_model[0], \n",
    "    measurement_var=sensor_var, \n",
    "    process_var=process_model[1])\n",
    "\n",
    "# create list of measurements\n",
    "zs = [dog.move_and_sense() for _ in range(10)]\n",
    "\n",
    "print('PREDICT\\t\\t\\tUPDATE')\n",
    "print('     x      var\\t\\t  z\\t    x      var')\n",
    "\n",
    "# run the filter\n",
    "xs, predictions = [], []\n",
    "for z in zs:\n",
    "    # perform Kalman filter on measurement z\n",
    "    prior = predict(x, process_model)\n",
    "    likelihood = (z, sensor_var)\n",
    "    x = update(prior, likelihood)\n",
    "\n",
    "    # save results\n",
    "    predictions.append(prior[0])\n",
    "    xs.append(x[0])\n",
    "    print_gh(prior, x, z)\n",
    "\n",
    "print()\n",
    "print('final estimate:        {:10.3f}'.format(x[0]))\n",
    "print('actual final position: {:10.3f}'.format(dog.x))\n"
   ]
  },
  {
   "cell_type": "markdown",
   "metadata": {},
   "source": [
    "# Kalman Filter Implementation (xD)"
   ]
  },
  {
   "cell_type": "code",
   "execution_count": 263,
   "metadata": {
    "collapsed": true
   },
   "outputs": [],
   "source": [
    "from filterpy.kalman import predict, update"
   ]
  },
  {
   "cell_type": "code",
   "execution_count": 264,
   "metadata": {
    "collapsed": true
   },
   "outputs": [],
   "source": [
    "import math\n",
    "import numpy as np\n",
    "from numpy.random import randn\n",
    "\n",
    "def compute_dog_data(z_var, process_var, count=1, dt=1.):\n",
    "    \"returns track, measurements 1D ndarrays\"\n",
    "    x, vel = 0., 1.\n",
    "    z_std = math.sqrt(z_var) \n",
    "    p_std = math.sqrt(process_var)\n",
    "    xs, zs = [], []\n",
    "    for _ in range(count):\n",
    "        v = vel + (randn() * p_std * dt)\n",
    "        x += v*dt        \n",
    "        xs.append(x)\n",
    "        zs.append(x + randn() * z_std)        \n",
    "    return np.array(xs), np.array(zs)"
   ]
  },
  {
   "cell_type": "code",
   "execution_count": null,
   "metadata": {
    "collapsed": true
   },
   "outputs": [],
   "source": []
  },
  {
   "cell_type": "markdown",
   "metadata": {},
   "source": [
    "# Thinking of Adaptation for Ocean One\n",
    "\n",
    "For the Ocean One robot:\n",
    "\n",
    "\n",
    "Input:\n",
    "- Accelerometer (IMU)\n",
    "- Velocity (Doppler Velocity Log)\n",
    "- Camera (Optical Flow)\n",
    "- Input of propeller and orientation of propeller??? Redundant with DVL? Sensor fusion to get a better estimation of the speed?\n",
    "\n",
    "Expected output:\n",
    "- position of the robot on the horizontal axis\n",
    "\n",
    "\n",
    "\n",
    "Our state from sensors (x):\n",
    "- velocity\n",
    "- acceleration\n"
   ]
  },
  {
   "cell_type": "markdown",
   "metadata": {},
   "source": [
    "# Thoughts\n",
    "\n",
    "Can we get the input of the propeller and its orientation or do you think it is going to be redundant with the accelerometer (IMU) ?\n",
    "\n",
    "Question: Change of direction VS Hitting a wall? How the IMU react? \n",
    "\n",
    "—> Drift cause to grow the error following a square rule over time.\n",
    "—> magnetometers to reduce a lot the drift!\n",
    "\n",
    "—> What is the expected accuracy?\n",
    "\n",
    "\n",
    "Kalman Filter OR particle filter\n",
    "\n",
    "\n",
    "—> Use of knowledge (ex: displacement in the water when no propeller are used, voir 8.2 Cambridge paper)\n",
    "\n",
    "\n",
    "Problem: Current\n",
    "—> What is very difficult to deduct, is that we will be able to have the relative position in the water, knowing the fact there will be current under water. We might want to have a map of the submarine current to add it as input to the Kalman Filter.\n",
    "\n",
    "\n",
    "\n",
    "« Context-Aided Sensor Fusion for Enhanced Urban Navigation » - set the urban navigation to underwater navigation\n",
    "\n",
    "\n",
    "Would the ground positioning system we will Use with Montreal, is updating the ground position of the robot at a particular frequency. SO then we will have to estimate the positioning of the robot between two measures? Problem stays the current we don’t know for underwater which will impact the position. \n",
    "\n",
    "—> Underwater courant can be tackled by knowing the value of IMU and input of propeller!\n",
    "\n",
    "\n",
    "\n",
    "—> We could try to detect when the robot hi the wall VS change of direction VS subject to strong curant."
   ]
  },
  {
   "cell_type": "markdown",
   "metadata": {},
   "source": [
    "# Notes Kalman Filter\n",
    "\n",
    "\n",
    "\n",
    "Convert State to Measurement --> Example: State Tenperature, Measurement Volt (AND NOT Measurement to State, not invertible)\n",
    "\n",
    "Work in measurement Space\n",
    "\n",
    "Measurement: z\n",
    "\n",
    "State: x\n",
    "\n",
    "Residual: y --> Kalman: y=z-H*x_barre\n",
    "\n",
    "(H is the Measurement function: to convert state to measurement, x_barre is the prior)\n",
    "\n",
    "<img src=\"./figs/residual_chart_with_h.png\">\n",
    "\n",
    "Pos and movement are Gaussian tuples:"
   ]
  },
  {
   "cell_type": "code",
   "execution_count": 265,
   "metadata": {
    "collapsed": true
   },
   "outputs": [],
   "source": [
    "def predict(pos, movement):\n",
    "    return (pos[0] + movement[0], pos[1] + movement[1])"
   ]
  },
  {
   "cell_type": "markdown",
   "metadata": {},
   "source": [
    "In our case:  z=[$\\dot z$, $\\ddot z$] (IMU, DVL: acceleration, velocity)\n",
    "\n",
    "In our case: $\\mathbf x$ is the position --> x=[x] --> x is a hidden variables - inferred from the observed variables (z variables)\n",
    "\n",
    "P is the covariance Matrix of $\\mathbf x$\n",
    "\n"
   ]
  },
  {
   "cell_type": "markdown",
   "metadata": {},
   "source": [
    "# Steps for Kalman Filter\n",
    "\n",
    "## Step to do for prediction:\n",
    "    \n",
    "1) Get the data from sensors -> store them into z variable. Will have to go through each measurements one after an other. Challenge, check the frequency at which each sensor is sending feedback. To go further: See if we could use each different epoch per sensor to do the Kalman\n",
    "\n",
    "2) Design State Covariance. Use the data we have online to generate the first covariance $\\sigma^2$. Then after each additional measurement, the covariance will be updated. The covariance matrix is P and is of the dimension of nxn, n being the number of variable in our state.\n",
    "\n",
    "3) Design the process model. Used to predict the state after a discrete amount of time. In our case. Using acceleration, integration 2 times and velocity integrating one time. --> $ x = 0.5 a \\Delta t^2 + v \\Delta t + x_0$"
   ]
  },
  {
   "cell_type": "markdown",
   "metadata": {},
   "source": [
    "$$\\begin{aligned}\n",
    "\\begin{bmatrix}\\bar x \\\\ \\bar{\\dot x}\\\\ \\bar{\\ddot x} \\\\ \\bar y \\\\ \\bar{\\dot y}\\\\ \\bar{\\ddot y} \\end{bmatrix} &= \\begin{bmatrix}1&\\Delta t &0.5\\Delta t^2 &0&0&0 \\\\ 0&1&0&0&0&0 \\\\ 0&0&1&0&0&0 \\\\ 0&0&0&1&\\Delta t &0.5\\Delta t^2 \\\\ 0&0&0&0&1&0 \\\\0&0&0&0&0&1 \\end{bmatrix}  \\begin{bmatrix}x \\\\ \\dot x \\\\ \\ddot x \\\\ y \\\\ \\dot y \\\\ \\ddot y \\end{bmatrix}\\\\\n",
    "\\mathbf{\\bar x} &= \\mathbf{Fx}\n",
    "\\end{aligned}$$"
   ]
  },
  {
   "cell_type": "markdown",
   "metadata": {},
   "source": [
    "Dim of prior and posterio should be the same, below is not usable."
   ]
  },
  {
   "cell_type": "markdown",
   "metadata": {},
   "source": [
    "$$\\begin{aligned}\n",
    "\\begin{bmatrix}\\bar x \\\\ \\bar y \\end{bmatrix} &= \\begin{bmatrix}1&\\Delta t &0.5\\Delta t^2 &0&0&0 \\\\ 0&0&0&1&\\Delta t &0.5\\Delta t^2 \\end{bmatrix}  \\begin{bmatrix}x \\\\ \\dot x \\\\ \\ddot x \\\\ y \\\\ \\dot y \\\\ \\ddot y \\end{bmatrix}\\\\\n",
    "\\mathbf{\\bar x} &= \\mathbf{Fx}\n",
    "\\end{aligned}$$"
   ]
  },
  {
   "cell_type": "markdown",
   "metadata": {},
   "source": [
    "from filterpy.kalman import predict --> calculate the state knowing a deltaT input"
   ]
  },
  {
   "cell_type": "code",
   "execution_count": 266,
   "metadata": {
    "collapsed": false
   },
   "outputs": [
    {
     "name": "stdout",
     "output_type": "stream",
     "text": [
      "x = [ 10.4  4.5]\n"
     ]
    }
   ],
   "source": [
    "from filterpy.kalman import predict # calculate the state knowing a deltaT input\n",
    "dt = 0.1\n",
    "x = np.array([10.0, 4.5])\n",
    "P = np.diag([500, 49])\n",
    "F = np.array([[1, dt], [0, 1]])\n",
    "\n",
    "# Q is the process noise\n",
    "x, P = predict(x=x, P=P, F=F, Q=0)\n",
    "print('x =', x)"
   ]
  },
  {
   "cell_type": "markdown",
   "metadata": {},
   "source": [
    "4) Design process noise: White noise means the mean is 0. So noise will only impact variance --> P in a way that P=P+Q (Q being the noise covariance matrix). We create a covariance matrix Q which will take care the noise. For kinematic we will use Q_discrete_white_noise"
   ]
  },
  {
   "cell_type": "code",
   "execution_count": 267,
   "metadata": {
    "collapsed": false
   },
   "outputs": [
    {
     "name": "stdout",
     "output_type": "stream",
     "text": [
      "[[ 0.588  1.18]\n",
      " [ 1.18  2.35]]\n"
     ]
    }
   ],
   "source": [
    "from filterpy.common import Q_discrete_white_noise\n",
    "#We have to put the variance we have from point 2.\n",
    "Q = Q_discrete_white_noise(dim=2, dt=1., var=2.35)\n",
    "print(Q)"
   ]
  },
  {
   "cell_type": "markdown",
   "metadata": {},
   "source": [
    "5) Design the control function. We can add the control function to our Kalman Filter. We will use the control function of our propeller and the direction of our propeller to put as input. B and u will be the variables that will repreent the control fucntion. $$\\Delta\\mathbf x = \\mathbf{Bu}$$"
   ]
  },
  {
   "cell_type": "code",
   "execution_count": 268,
   "metadata": {
    "collapsed": false
   },
   "outputs": [],
   "source": [
    "B=0\n",
    "u=0\n",
    "x, P = predict(x, P, F, Q, B, u)"
   ]
  },
  {
   "cell_type": "markdown",
   "metadata": {},
   "source": [
    "## UPDATE STEPS:\n",
    "\n",
    "6) Design Measurement Function H. K being the Kalman Gain. We use H to transform the state into a measurement that is comparable to the prediction. (V with V and not V with °C). My work will be to find how to translate the motor controller input into a position and optical flow into a position. <img src=\"./figs/residual_chart_with_h.png\">"
   ]
  },
  {
   "cell_type": "markdown",
   "metadata": {},
   "source": [
    "7) Design the measurement. z are the input from sensors, R is the covariance matrix of the error on the sensor. Beware, it very often doesn't fit a gaussian model."
   ]
  },
  {
   "cell_type": "markdown",
   "metadata": {},
   "source": [
    "8) Prediction Equation"
   ]
  },
  {
   "cell_type": "markdown",
   "metadata": {},
   "source": [
    "$$\n",
    "\\begin{aligned}\n",
    "\\text{Predict Step}\\\\\n",
    "\\mathbf{\\bar x} &= \\mathbf{F x} + \\mathbf{B u} \\\\\n",
    "\\mathbf{\\bar P} &= \\mathbf{FP{F}}^\\mathsf T + \\mathbf Q \\\\\n",
    "\\\\\n",
    "\\text{Update Step}\\\\\n",
    "\\textbf{S} &= \\mathbf{H\\bar PH}^\\mathsf T + \\mathbf R \\\\\n",
    "\\mathbf K &= \\mathbf{\\bar PH}^\\mathsf T \\mathbf{S}^{-1} \\\\\n",
    "\\textbf{y} &= \\mathbf z - \\mathbf{H \\bar x} \\\\\n",
    "\\mathbf x &=\\mathbf{\\bar x} +\\mathbf{K\\textbf{y}} \\\\\n",
    "\\mathbf P &= (\\mathbf{I}-\\mathbf{KH})\\mathbf{\\bar P}\n",
    "\\end{aligned}\n",
    "$$"
   ]
  },
  {
   "cell_type": "markdown",
   "metadata": {},
   "source": [
    "# Kalman Filter Implementation"
   ]
  },
  {
   "cell_type": "code",
   "execution_count": 269,
   "metadata": {
    "collapsed": false
   },
   "outputs": [
    {
     "data": {
      "text/html": [
       "<style>\n",
       "@import url('http://fonts.googleapis.com/css?family=Source+Code+Pro');\n",
       "@import url('http://fonts.googleapis.com/css?family=Lora');\n",
       "\n",
       "//@import url('http://fonts.googleapis.com/css?family=Open+Sans');\n",
       "//@import url('http://fonts.googleapis.com/css?family=Vollkorn');\n",
       "//@import url('http://fonts.googleapis.com/css?family=Karla');\n",
       "//@import url('http://fonts.googleapis.com/css?family=Poppins');\n",
       "//@import url('http://fonts.googleapis.com/css?family=Arimo');\n",
       "//@import url('http://fonts.googleapis.com/css?family=Roboto');\n",
       "//@import url('http://fonts.googleapis.com/css?family=Lato');\n",
       "//@import url('http://fonts.googleapis.com/css?family=Domine');\n",
       "//@import url('http://fonts.googleapis.com/css?family=Chivo');\n",
       "//@import url('http://fonts.googleapis.com/css?family=Cardo');\n",
       "//@import url('http://fonts.googleapis.com/css?family=Arvo');\n",
       "//@import url('http://fonts.googleapis.com/css?family=Crimson+Text');\n",
       "//@import url('http://fonts.googleapis.com/css?family=Ubuntu');\n",
       "//@import url('http://fonts.googleapis.com/css?family=Fontin');\n",
       "//@import url('http://fonts.googleapis.com/css?family=Raleway');\n",
       "//@import url('http://fonts.googleapis.com/css?family=Merriweather');\n",
       "\n",
       "\n",
       ".CodeMirror pre {\n",
       "    font-family: 'Source Code Pro', Consolas, monocco, monospace;\n",
       "}\n",
       "    div.cell{\n",
       "        //width: 950px;\n",
       "        margin-left: 0% !important;\n",
       "        margin-right: auto;\n",
       "    }\n",
       "    div.text_cell_render{\n",
       "        font-family: 'Lora';\n",
       "        //font-family: 'Open Sans';\n",
       "        //font-family: 'Karla',verdana,arial,sans-serif;\n",
       "        //font-family: 'Roboto',verdana,arial,sans-serif;\n",
       "        //font-family: 'Lato',verdana,arial,sans-serif;\n",
       "        //font-family: 'Domine',verdana,arial,sans-serif;\n",
       "        //font-family: 'Chivo',verdana,arial,sans-serif;\n",
       "        //font-family: 'Cardo',verdana,arial,sans-serif;\n",
       "        //font-family: 'Arvo',verdana,arial,sans-serif;\n",
       "        //font-family: 'Poppins',verdana,arial,sans-serif;\n",
       "        //font-family: 'Ubuntu',verdana,arial,sans-serif;\n",
       "        //font-family: 'Fontin',verdana,arial,sans-serif;\n",
       "        //font-family: 'Raleway',verdana,arial,sans-serif;\n",
       "        //font-family: 'Merriweather',verdana,arial,sans-serif;\n",
       "        //font-family: 'Crimson Text', verdana,arial,sans-serif;\n",
       "        //font-family: verdana,arial,sans-serif;\n",
       "        //font-family: arial,sans-serif;\n",
       "        line-height: 125%;\n",
       "        font-size: 130%;\n",
       "        text-align: justify;\n",
       "        text-justify:inter-word;\n",
       "    }\n",
       "    div.text_cell code {\n",
       "        background: transparent;\n",
       "        color: #000000;\n",
       "        font-weight: 400;\n",
       "        font-size: 12pt;\n",
       "        //font-style: bold;\n",
       "        font-family:  'Source Code Pro', Consolas, monocco, monospace;\n",
       "   }\n",
       "    h1 {\n",
       "        font-family: 'Open sans',verdana,arial,sans-serif;\n",
       "\t}\n",
       "\n",
       "    div.input_area {\n",
       "        background: #F6F6F9;\n",
       "        border: 1px solid #586e75;\n",
       "    }\n",
       "\n",
       "    .text_cell_render h1 {\n",
       "        font-weight: 200;\n",
       "        font-size: 30pt;\n",
       "        line-height: 100%;\n",
       "        color:#c76c0c;\n",
       "        margin-bottom: 0.5em;\n",
       "        margin-top: 1em;\n",
       "        display: block;\n",
       "        white-space: wrap;\n",
       "        text-align: left;\n",
       "    }\n",
       "    h2 {\n",
       "        font-family: 'Open sans',verdana,arial,sans-serif;\n",
       "        text-align: left;\n",
       "    }\n",
       "    .text_cell_render h2 {\n",
       "        font-weight: 200;\n",
       "        font-size: 16pt;\n",
       "        font-style: italic;\n",
       "        line-height: 100%;\n",
       "        color:#c76c0c;\n",
       "        margin-bottom: 0.5em;\n",
       "        margin-top: 1.5em;\n",
       "        display: block;\n",
       "        white-space: wrap;\n",
       "        text-align: left;\n",
       "    }\n",
       "    h3 {\n",
       "        font-family: 'Open sans',verdana,arial,sans-serif;\n",
       "    }\n",
       "    .text_cell_render h3 {\n",
       "        font-weight: 200;\n",
       "        font-size: 14pt;\n",
       "        line-height: 100%;\n",
       "        color:#d77c0c;\n",
       "        margin-bottom: 0.5em;\n",
       "        margin-top: 2em;\n",
       "        display: block;\n",
       "        white-space: wrap;\n",
       "        text-align: left;\n",
       "    }\n",
       "    h4 {\n",
       "        font-family: 'Open sans',verdana,arial,sans-serif;\n",
       "    }\n",
       "    .text_cell_render h4 {\n",
       "        font-weight: 100;\n",
       "        font-size: 14pt;\n",
       "        color:#d77c0c;\n",
       "        margin-bottom: 0.5em;\n",
       "        margin-top: 0.5em;\n",
       "        display: block;\n",
       "        white-space: nowrap;\n",
       "    }\n",
       "    h5 {\n",
       "        font-family: 'Open sans',verdana,arial,sans-serif;\n",
       "    }\n",
       "\n",
       "    .text_cell_render h5 {\n",
       "        font-weight: 200;\n",
       "        font-style: normal;\n",
       "        color: #1d3b84;\n",
       "        font-size: 16pt;\n",
       "        margin-bottom: 0em;\n",
       "        margin-top: 0.5em;\n",
       "        display: block;\n",
       "        white-space: nowrap;\n",
       "    }\n",
       "    div.output_subarea.output_text.output_pyout {\n",
       "        overflow-x: auto;\n",
       "        overflow-y: scroll;\n",
       "        max-height: 50000px;\n",
       "    }\n",
       "    div.output_subarea.output_stream.output_stdout.output_text {\n",
       "        overflow-x: auto;\n",
       "        overflow-y: scroll;\n",
       "        max-height: 50000px;\n",
       "    }\n",
       "    div.output_wrapper{\n",
       "        margin-top:0.2em;\n",
       "        margin-bottom:0.2em;\n",
       "}\n",
       "\n",
       "    code{\n",
       "        font-size: 6pt;\n",
       "\n",
       "    }\n",
       "    .rendered_html code{\n",
       "    background-color: transparent;\n",
       "    }\n",
       "    ul{\n",
       "        margin: 2em;\n",
       "    }\n",
       "    ul li{\n",
       "        padding-left: 0.5em;\n",
       "        margin-bottom: 0.5em;\n",
       "        margin-top: 0.5em;\n",
       "    }\n",
       "    ul li li{\n",
       "        padding-left: 0.2em;\n",
       "        margin-bottom: 0.2em;\n",
       "        margin-top: 0.2em;\n",
       "    }\n",
       "    ol{\n",
       "        margin: 2em;\n",
       "    }\n",
       "    ol li{\n",
       "        padding-left: 0.5em;\n",
       "        margin-bottom: 0.5em;\n",
       "        margin-top: 0.5em;\n",
       "    }\n",
       "    ul li{\n",
       "        padding-left: 0.5em;\n",
       "        margin-bottom: 0.5em;\n",
       "        margin-top: 0.2em;\n",
       "    }\n",
       "    a:link{\n",
       "       color:#447adb;\n",
       "    }\n",
       "    a:visited{\n",
       "       color: #1d3b84;\n",
       "    }\n",
       "    a:hover{\n",
       "       color: #1d3b84;\n",
       "    }\n",
       "    a:focus{\n",
       "       color:#447adb;\n",
       "    }\n",
       "    a:active{\n",
       "       font-weight: bold;\n",
       "       color:#447adb;\n",
       "    }\n",
       "    .rendered_html :link {\n",
       "       text-decoration: underline;\n",
       "    }\n",
       "    .rendered_html :hover {\n",
       "       text-decoration: none;\n",
       "    }\n",
       "    .rendered_html :visited {\n",
       "      text-decoration: none;\n",
       "    }\n",
       "    .rendered_html :focus {\n",
       "      text-decoration: none;\n",
       "    }\n",
       "    .rendered_html :active {\n",
       "      text-decoration: none;\n",
       "    }\n",
       "    .warning{\n",
       "        color: rgb( 240, 20, 20 )\n",
       "    }\n",
       "    hr {\n",
       "      color: #f3f3f3;\n",
       "      background-color: #f3f3f3;\n",
       "      height: 1px;\n",
       "    }\n",
       "    blockquote{\n",
       "      display:block;\n",
       "      background: #fcfcfc;\n",
       "      border-left: 5px solid #c76c0c;\n",
       "      font-family: 'Open sans',verdana,arial,sans-serif;\n",
       "      width:680px;\n",
       "      padding: 10px 10px 10px 10px;\n",
       "      text-align:justify;\n",
       "      text-justify:inter-word;\n",
       "      }\n",
       "      blockquote p {\n",
       "        margin-bottom: 0;\n",
       "        line-height: 125%;\n",
       "        font-size: 100%;\n",
       "      }\n",
       "</style>\n",
       "<script>\n",
       "    MathJax.Hub.Config({\n",
       "                        TeX: {\n",
       "                           extensions: [\"AMSmath.js\"],\n",
       "                           equationNumbers: { autoNumber: \"AMS\", useLabelIds: true}\n",
       "                           },\n",
       "                tex2jax: {\n",
       "                    inlineMath: [ ['$','$'], [\"\\\\(\",\"\\\\)\"] ],\n",
       "                    displayMath: [ ['$$','$$'], [\"\\\\[\",\"\\\\]\"] ]\n",
       "                },\n",
       "                displayAlign: 'center', // Change this to 'center' to center equations.\n",
       "                \"HTML-CSS\": {\n",
       "                    scale:95,\n",
       "                        availableFonts: [],\n",
       "                        preferredFont:null,\n",
       "                        webFont: \"TeX\",\n",
       "                    styles: {'.MathJax_Display': {\"margin\": 4}}\n",
       "                }\n",
       "        });\n",
       "</script>\n"
      ],
      "text/plain": [
       "<IPython.core.display.HTML object>"
      ]
     },
     "execution_count": 269,
     "metadata": {},
     "output_type": "execute_result"
    }
   ],
   "source": [
    "#format the book\n",
    "%matplotlib inline\n",
    "from __future__ import division, print_function\n",
    "load_style()"
   ]
  },
  {
   "cell_type": "markdown",
   "metadata": {},
   "source": [
    "Data Generator"
   ]
  },
  {
   "cell_type": "code",
   "execution_count": 272,
   "metadata": {
    "collapsed": false
   },
   "outputs": [
    {
     "data": {
      "text/plain": [
       "(<matplotlib.collections.PathCollection at 0x113b01c18>,)"
      ]
     },
     "execution_count": 272,
     "metadata": {},
     "output_type": "execute_result"
    },
    {
     "data": {
      "image/png": "[encoded data removed]",
      "text/plain": [
       "<matplotlib.figure.Figure at 0x1139a0550>"
      ]
     },
     "metadata": {},
     "output_type": "display_data"
    }
   ],
   "source": [
    "###############\n",
    "# Sensors Data Generator :\n",
    "###############\n",
    "from numpy.random import randn\n",
    "import copy\n",
    "class PosSensor1(object):\n",
    "    def __init__(self, acc=(0,0), vel=(0, 0), noise_std=1.,dt=1):\n",
    "        self.vel = [vel[0], vel[1]]\n",
    "        self.noise_std = noise_std\n",
    "        self.dt= dt\n",
    "        self.acc = [acc[0], acc[1]]\n",
    "        \n",
    "    def read(self):\n",
    "        self.vel[0]+=self.acc[0]*dt\n",
    "        self.vel[1]+=self.acc[1]*dt\n",
    "        returned=np.zeros((4,1))\n",
    "        returned[0]=self.vel[0] + randn() * self.noise_std\n",
    "        returned[1]=self.acc[0] + randn() * self.noise_std\n",
    "        returned[2]=self.vel[1] + randn() * self.noise_std\n",
    "        returned[3]=self.acc[1] + randn() * self.noise_std\n",
    "        \n",
    "        return returned\n",
    "\n",
    "    \n",
    "#TEST OF CLASS POSSENSOR1!\n",
    "import matplotlib.pyplot as plt\n",
    "import numpy as np\n",
    "import code.book_plots as bp\n",
    "acc, vel = (1, 1), (2, 1)\n",
    "sensor = PosSensor1(acc, vel, noise_std=0.5)\n",
    "ps = np.array([sensor.read() for _ in range(50)])\n",
    "bp.plot_measurements(ps[:, 0], ps[:, 2])"
   ]
  },
  {
   "cell_type": "markdown",
   "metadata": {},
   "source": [
    "Kalman Filter"
   ]
  },
  {
   "cell_type": "code",
   "execution_count": 285,
   "metadata": {
    "collapsed": false
   },
   "outputs": [],
   "source": [
    "from filterpy.kalman import KalmanFilter\n",
    "from scipy.linalg import block_diag\n",
    "from filterpy.common import Q_discrete_white_noise\n",
    "\n",
    "##############################\n",
    "# Sensors Caracteristics:\n",
    "##############################\n",
    "\n",
    "#Sensor 1: DVL - axis x\n",
    "meanValueS1x=1    #Test Value\n",
    "varValueS1x=1    #Test Value\n",
    "\n",
    "#Sensor 1: DVL - axis y\n",
    "meanValueS1y=1    #Test Value\n",
    "varValueS1y=1    #Test Value\n",
    "\n",
    "#Sensor 2: IMU - axis x\n",
    "meanValueS2x=1    #Test Value\n",
    "varValueS2x=1    #Test Value\n",
    "\n",
    "#Sensor 2: IMU - axis y\n",
    "meanValueS2y=1    #Test Value\n",
    "varValueS2y=1    #Test Value\n",
    "\n",
    "#epoch of sensors\n",
    "epochS1=1    #Test Value\n",
    "epochS2=1    #Test Value\n",
    "dt=epochS1   #TEMPORARY COMMENT: used in transition of having the right epoch of each sensor\n",
    "\n",
    "\n",
    "##############################\n",
    "# Kalman Filter Dimension\n",
    "##############################\n",
    "\n",
    "#Filter dimension: Here we want only 2 outputs (position x and position y) but need 6 inputs \n",
    "#to calculate our prediction using the State Transition Function : 0.5*a*dt^2+v*dt+x\n",
    "dim_x=6\n",
    "\n",
    "#Sensors output dimension: Here with DVL and IMU we use acceleration and velocity on 2 axis which results in dim 4.\n",
    "dim_z=4\n",
    "\n",
    "\n",
    "##############################\n",
    "# Parameters to design for the Kalman Filter:\n",
    "##############################\n",
    "\n",
    "#Filter Initialization\n",
    "horizontalPosFilter=KalmanFilter(dim_x,dim_z)\n",
    "\n",
    "#F: State Transition Matrix --> using the Newton's equation: x(t+1)=0.5*a*dt^2+v*dt+x(t)\n",
    "horizontalPosFilter.F=np.array([[1,dt,0.5*dt,0,0,0],\n",
    "                                [0,1,dt,0,0,0],\n",
    "                                [0,0,1,0,0,0],\n",
    "                                [0,0,0,1,dt,0.5*dt],\n",
    "                                [0,0,0,0,1,dt],\n",
    "                                [0,0,0,0,0,1]])\n",
    "\n",
    "#Q: White noise Covariance Matrix\n",
    "q = Q_discrete_white_noise(dim=3, dt=dt, var=0.001)  #Var to be modified designed... HOW? Have no clue...\n",
    "horizontalPosFilter.Q = block_diag(q, q)\n",
    "\n",
    "# Implementation of the control transition matrix\n",
    "# B and u\n",
    "# Question: Do we add this part to our Kalman Filter since the control might be redundant to the sensors value? Yes we do.\n",
    "\n",
    "\n",
    "# H is the measurement function (4x6) (each sensor output x each Filter output) Z --> input DVL x, input IMU x, input DVL y, input IMU y). \n",
    "# This matrix will have to be changed if we have to change some units. All are in meters and seconds.\n",
    "horizontalPosFilter.H=np.array([[0,1,0,0,0,0],\n",
    "                                [0,0,1,0,0,0],\n",
    "                                [0,0,0,0,1,0],\n",
    "                                [0,0,0,0,0,1]])\n",
    "\n",
    "# R: Noise Measurement Matrix (DVLx, IMUx, DVLy, IMUy): covariances\n",
    "# add covariance, if some sensors have some correlation: DVL x and y have correlation? YES!! Same for IMU.\n",
    "horizontalPosFilter.R=np.array([[varValueS1x,0,0,0],\n",
    "                                [0,varValueS2x,0,0],\n",
    "                                [0,0,varValueS1y,0],\n",
    "                                [0,0,0,varValueS2y]])\n",
    "\n",
    "horizontalPosFilter.Q=0\n",
    "\n",
    "# Initial Conditions\n",
    "data_var=0.5 #TO CHANGE \n",
    "horizontalPosFilter.x=np.array([[0,0,0,0,0,0]]).T\n",
    "horizontalPosFilter.P=np.eye(dim_x)*data_var #Replace with the data variance of our testing set! for each sensor/direction"
   ]
  },
  {
   "cell_type": "code",
   "execution_count": 286,
   "metadata": {
    "collapsed": false,
    "scrolled": true
   },
   "outputs": [
    {
     "data": {
      "text/plain": [
       "(0, 50)"
      ]
     },
     "execution_count": 286,
     "metadata": {},
     "output_type": "execute_result"
    },
    {
     "data": {
      "image/png": "[encoded data removed]",
      "text/plain": [
       "<matplotlib.figure.Figure at 0x1129b1940>"
      ]
     },
     "metadata": {},
     "output_type": "display_data"
    }
   ],
   "source": [
    "acc,vel=(1,1),(2,2)\n",
    "std_data=0.25\n",
    "sensor=PosSensor1(acc,vel,std_data)\n",
    "\n",
    "measure_x=[]\n",
    "predict_x=[]\n",
    "\n",
    "for i in range(0,50):\n",
    "    # Predict\n",
    "    horizontalPosFilter.predict(F=horizontalPosFilter.F,Q=horizontalPosFilter.Q)\n",
    "    predict_x.append(horizontalPosFilter.x)\n",
    "    \n",
    "    # Update New Measure\n",
    "    measure=sensor.read()\n",
    "    horizontalPosFilter.update(z=measure,R=horizontalPosFilter.R,H=horizontalPosFilter.H)\n",
    "    measure_x.append(measure)\n",
    "\n",
    "measure_x = np.asarray(measure_x)\n",
    "predict_x = np.asarray(predict_x)\n",
    "    \n",
    "bp.plot_filter(predict_x[:,0], predict_x[:,3])\n",
    "bp.plot_measurements(measure_x[:,0], measure_x[:,2])\n",
    "plt.legend(loc=2)\n",
    "plt.xlim((0, 50))\n",
    "plt.ylim((0, 50))"
   ]
  },
  {
   "cell_type": "code",
   "execution_count": 276,
   "metadata": {
    "collapsed": false
   },
   "outputs": [],
   "source": [
    "### OPTIONNAL: MANUAL EQUATION WITHOUT THE LIBRARY FILTERPY\n",
    "# http://www.cs.unc.edu/~tracker/media/pdf/SIGGRAPH2001_CoursePack_08.pdf\n",
    "\n",
    "##############################\n",
    "#Update Time Function\n",
    "##############################\n",
    "\n",
    "for i in range(50):\n",
    "    #Update x\n",
    "    horizontalPosFilter.x=np.dot(horizontalPosFilter.x.T,horizontalPosFilter.F).T\n",
    "    #horizontalPosFilter.x+=horizontalPosFilter.B*horizontalPosFilter.u #TO UNCOMMENT IF WE ADD CONTROL INPUTS\n",
    "\n",
    "    #Update P\n",
    "    horizontalPosFilter.P=np.dot(np.dot(horizontalPosFilter.F,horizontalPosFilter.P),horizontalPosFilter.F.T)+horizontalPosFilter.Q\n",
    "\n",
    "##############################\n",
    "#Update Measurement Function\n",
    "##############################  \n",
    "    #Update Filter Gain K\n",
    "    #...\n",
    "\n"
   ]
  }
 ],
 "metadata": {
  "anaconda-cloud": {},
  "kernelspec": {
   "display_name": "Python [Root]",
   "language": "python",
   "name": "Python [Root]"
  },
  "language_info": {
   "codemirror_mode": {
    "name": "ipython",
    "version": 3
   },
   "file_extension": ".py",
   "mimetype": "text/x-python",
   "name": "python",
   "nbconvert_exporter": "python",
   "pygments_lexer": "ipython3",
   "version": "3.5.2"
  }
 },
 "nbformat": 4,
 "nbformat_minor": 0
}
